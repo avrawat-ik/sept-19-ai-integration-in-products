{
  "nbformat": 4,
  "nbformat_minor": 0,
  "metadata": {
    "colab": {
      "provenance": []
    },
    "kernelspec": {
      "name": "python3",
      "display_name": "Python 3"
    },
    "language_info": {
      "name": "python"
    }
  },
  "cells": [
    {
      "cell_type": "markdown",
      "source": [
        "# **IRS Chat BOT**\n",
        "Lets say we are hired from the IRS to answer questions w.r.t customer care. One of the hardes parts of the job is to only answer questions for the text for the IRS webpage.\n",
        "Lets take an example from below page.\n",
        "https://www.irs.gov/businesses/small-businesses-self-employed/business-taxes\n",
        "\n",
        "If the user asks for \"What are the types of business taxes\". **The answer should be 5. Lets build a bot to help answer these question.**"
      ],
      "metadata": {
        "id": "kFyhMgRA0yvX"
      }
    },
    {
      "cell_type": "code",
      "execution_count": null,
      "metadata": {
        "colab": {
          "base_uri": "https://localhost:8080/"
        },
        "collapsed": true,
        "id": "im8zU_vBnBMH",
        "outputId": "1e57e583-c3ef-463e-e54a-0a5a090bc7d0"
      },
      "outputs": [
        {
          "output_type": "stream",
          "name": "stdout",
          "text": [
            "Collecting groq\n",
            "  Downloading groq-0.11.0-py3-none-any.whl.metadata (13 kB)\n",
            "Requirement already satisfied: anyio<5,>=3.5.0 in /usr/local/lib/python3.10/dist-packages (from groq) (3.7.1)\n",
            "Requirement already satisfied: distro<2,>=1.7.0 in /usr/lib/python3/dist-packages (from groq) (1.7.0)\n",
            "Collecting httpx<1,>=0.23.0 (from groq)\n",
            "  Downloading httpx-0.27.2-py3-none-any.whl.metadata (7.1 kB)\n",
            "Requirement already satisfied: pydantic<3,>=1.9.0 in /usr/local/lib/python3.10/dist-packages (from groq) (2.9.2)\n",
            "Requirement already satisfied: sniffio in /usr/local/lib/python3.10/dist-packages (from groq) (1.3.1)\n",
            "Requirement already satisfied: typing-extensions<5,>=4.7 in /usr/local/lib/python3.10/dist-packages (from groq) (4.12.2)\n",
            "Requirement already satisfied: idna>=2.8 in /usr/local/lib/python3.10/dist-packages (from anyio<5,>=3.5.0->groq) (3.10)\n",
            "Requirement already satisfied: exceptiongroup in /usr/local/lib/python3.10/dist-packages (from anyio<5,>=3.5.0->groq) (1.2.2)\n",
            "Requirement already satisfied: certifi in /usr/local/lib/python3.10/dist-packages (from httpx<1,>=0.23.0->groq) (2024.8.30)\n",
            "Collecting httpcore==1.* (from httpx<1,>=0.23.0->groq)\n",
            "  Downloading httpcore-1.0.5-py3-none-any.whl.metadata (20 kB)\n",
            "Collecting h11<0.15,>=0.13 (from httpcore==1.*->httpx<1,>=0.23.0->groq)\n",
            "  Downloading h11-0.14.0-py3-none-any.whl.metadata (8.2 kB)\n",
            "Requirement already satisfied: annotated-types>=0.6.0 in /usr/local/lib/python3.10/dist-packages (from pydantic<3,>=1.9.0->groq) (0.7.0)\n",
            "Requirement already satisfied: pydantic-core==2.23.4 in /usr/local/lib/python3.10/dist-packages (from pydantic<3,>=1.9.0->groq) (2.23.4)\n",
            "Downloading groq-0.11.0-py3-none-any.whl (106 kB)\n",
            "\u001b[2K   \u001b[90m━━━━━━━━━━━━━━━━━━━━━━━━━━━━━━━━━━━━━━━━\u001b[0m \u001b[32m106.5/106.5 kB\u001b[0m \u001b[31m4.2 MB/s\u001b[0m eta \u001b[36m0:00:00\u001b[0m\n",
            "\u001b[?25hDownloading httpx-0.27.2-py3-none-any.whl (76 kB)\n",
            "\u001b[2K   \u001b[90m━━━━━━━━━━━━━━━━━━━━━━━━━━━━━━━━━━━━━━━━\u001b[0m \u001b[32m76.4/76.4 kB\u001b[0m \u001b[31m3.6 MB/s\u001b[0m eta \u001b[36m0:00:00\u001b[0m\n",
            "\u001b[?25hDownloading httpcore-1.0.5-py3-none-any.whl (77 kB)\n",
            "\u001b[2K   \u001b[90m━━━━━━━━━━━━━━━━━━━━━━━━━━━━━━━━━━━━━━━━\u001b[0m \u001b[32m77.9/77.9 kB\u001b[0m \u001b[31m4.5 MB/s\u001b[0m eta \u001b[36m0:00:00\u001b[0m\n",
            "\u001b[?25hDownloading h11-0.14.0-py3-none-any.whl (58 kB)\n",
            "\u001b[2K   \u001b[90m━━━━━━━━━━━━━━━━━━━━━━━━━━━━━━━━━━━━━━━━\u001b[0m \u001b[32m58.3/58.3 kB\u001b[0m \u001b[31m3.5 MB/s\u001b[0m eta \u001b[36m0:00:00\u001b[0m\n",
            "\u001b[?25hInstalling collected packages: h11, httpcore, httpx, groq\n",
            "Successfully installed groq-0.11.0 h11-0.14.0 httpcore-1.0.5 httpx-0.27.2\n"
          ]
        }
      ],
      "source": [
        "!pip install groq"
      ]
    },
    {
      "cell_type": "code",
      "source": [
        "# @title Default title text\n",
        "from groq import Groq\n",
        "from IPython.display import Markdown, display\n",
        "\n",
        "client = Groq(\n",
        "    api_key=\"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\",\n",
        ")"
      ],
      "metadata": {
        "id": "1vYSFdaYoDRW"
      },
      "execution_count": null,
      "outputs": []
    },
    {
      "cell_type": "code",
      "source": [
        "##############################################################################\n",
        "# Chatbot class.\n",
        "##############################################################################\n",
        "class ChatBot:\n",
        "    def __init__(self,model=\"llama3-8b-8192\"):\n",
        "        self.question_trace = []\n",
        "        self.answer_trace = []\n",
        "        self.model = model\n",
        "        self.client = Groq(api_key=\"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\",)\n",
        "        self.msgs = []\n",
        "        self.logs = []\n",
        "        # self.botmode = False\n",
        "\n",
        "    def get_modelname(self):\n",
        "        print(f\"model name: {self.model}\")\n",
        "\n",
        "    def getUserInput(self):\n",
        "        # return input(Markdown(f\"<font color='blue'><i>user: </i></font>\"))\n",
        "        return input(\"User: \")\n",
        "\n",
        "    def generateResponse(self,user_msg):\n",
        "        # self.msgs = []\n",
        "        self.msgs.append({\"role\":\"user\", \"content\":user_msg});\n",
        "        chat_completion = self.client.chat.completions.create(messages=self.msgs,model=self.model,)\n",
        "        self.logs.append(chat_completion)\n",
        "        self.msgs.append({\"role\":chat_completion.choices[0].message.role,\"content\":chat_completion.choices[0].message.content})\n",
        "        return chat_completion.choices[0].message.content\n",
        "\n",
        "    def startChat(self):\n",
        "        user_msg = self.getUserInput()\n",
        "        while(user_msg != \"exit\"):\n",
        "            botResponse = self.generateResponse(user_msg)\n",
        "            display(Markdown(f\"<font color='blue'><i>bot: </i>{botResponse}</font>\"))\n",
        "            # print(botResponse)\n",
        "            user_msg = self.getUserInput()\n",
        "        if(user_msg == \"exit\"):\n",
        "            print(\"Thank you for using our chat application. Please give any feedback to help us improve.\")\n"
      ],
      "metadata": {
        "id": "Bqoqrnwpo2S-"
      },
      "execution_count": null,
      "outputs": []
    },
    {
      "cell_type": "code",
      "source": [
        "import time\n",
        "bot1 = ChatBot()\n",
        "bot1.get_modelname()"
      ],
      "metadata": {
        "colab": {
          "base_uri": "https://localhost:8080/"
        },
        "id": "Q6lRWrI9q6Fc",
        "outputId": "c6a056b3-24e9-4787-b6ea-97c6e5dfc7e6"
      },
      "execution_count": null,
      "outputs": [
        {
          "output_type": "stream",
          "name": "stdout",
          "text": [
            "model name: llama3-8b-8192\n"
          ]
        }
      ]
    },
    {
      "cell_type": "code",
      "source": [
        "bot1.startChat()"
      ],
      "metadata": {
        "colab": {
          "base_uri": "https://localhost:8080/",
          "height": 699
        },
        "id": "ZT8ddxpVrLJC",
        "outputId": "68138e49-6602-4741-9bea-fc6a27ee2643"
      },
      "execution_count": null,
      "outputs": [
        {
          "name": "stdout",
          "output_type": "stream",
          "text": [
            "User: Hi What are the types of bussiness tax\n"
          ]
        },
        {
          "output_type": "display_data",
          "data": {
            "text/plain": [
              "<IPython.core.display.Markdown object>"
            ],
            "text/markdown": "<font color='blue'><i>bot: </i>Business taxes can be complex and varied, but I'll provide an overview of the main types of business taxes:\n\n1. **Income Tax**: Tax on a company's profits, calculated by subtracting expenses from revenue.\n2. **Value-Added Tax (VAT)**: A consumption tax on the value added to a product or service at each stage of production and distribution.\n3. **Goods and Services Tax (GST)**: A broad-based tax on the supply of goods and services in a country or state.\n4. **Corporate Tax**: A tax on a company's profits, usually levied on the company's net income.\n5. **Franchise Tax**: A tax imposed on businesses operating under a franchise agreement, often based on the company's assets or income.\n6. **Sales Tax**: A tax on the sale of goods and services, typically collected by the retailer and paid to the government.\n7. **Property Tax**: A tax on real estate, such as land, buildings, and improvements.\n8. **Employment Tax**: A tax on wages paid to employees, including Social Security taxes and Medicare taxes.\n9. **Self-Employment Tax**: A tax on income from self-employment, such as freelancing or running a business as a sole proprietor.\n10. **Tobacco Tax**: A tax on tobacco products, such as cigarettes, cigars, and chewing tobacco.\n11. **Excise Tax**: A tax on specific goods, often related to the production or distribution of those goods, such as fuel, beer, or wine.\n12. **Environmental Tax**: A tax on activities that harm the environment, such as carbon emissions or toxic waste disposal.\n13. **Carbon Tax**: A tax on carbon emissions from fossil fuels, such as coal, oil, and natural gas.\n14. **Airlines Tax**: A tax imposed on air transportation, often used to fund airport infrastructure or other related expenses.\n15. **Hotel Occupancy Tax**: A tax on hotel rooms, typically collected by the hotel and paid to the government.\n\nThis is not an exhaustive list, as business taxes can vary significantly depending on the country, state, or region. It's essential to consult with a tax professional or accountant to understand the specific taxes applicable to your business.\n\nDo you have a specific business or tax-related question, Ashok?</font>"
          },
          "metadata": {}
        },
        {
          "output_type": "error",
          "ename": "KeyboardInterrupt",
          "evalue": "Interrupted by user",
          "traceback": [
            "\u001b[0;31m---------------------------------------------------------------------------\u001b[0m",
            "\u001b[0;31mKeyboardInterrupt\u001b[0m                         Traceback (most recent call last)",
            "\u001b[0;32m<ipython-input-6-a5bd49269df6>\u001b[0m in \u001b[0;36m<cell line: 1>\u001b[0;34m()\u001b[0m\n\u001b[0;32m----> 1\u001b[0;31m \u001b[0mbot1\u001b[0m\u001b[0;34m.\u001b[0m\u001b[0mstartChat\u001b[0m\u001b[0;34m(\u001b[0m\u001b[0;34m)\u001b[0m\u001b[0;34m\u001b[0m\u001b[0;34m\u001b[0m\u001b[0m\n\u001b[0m",
            "\u001b[0;32m<ipython-input-3-ada676a44459>\u001b[0m in \u001b[0;36mstartChat\u001b[0;34m(self)\u001b[0m\n\u001b[1;32m     33\u001b[0m             \u001b[0mdisplay\u001b[0m\u001b[0;34m(\u001b[0m\u001b[0mMarkdown\u001b[0m\u001b[0;34m(\u001b[0m\u001b[0;34mf\"<font color='blue'><i>bot: </i>{botResponse}</font>\"\u001b[0m\u001b[0;34m)\u001b[0m\u001b[0;34m)\u001b[0m\u001b[0;34m\u001b[0m\u001b[0;34m\u001b[0m\u001b[0m\n\u001b[1;32m     34\u001b[0m             \u001b[0;31m# print(botResponse)\u001b[0m\u001b[0;34m\u001b[0m\u001b[0;34m\u001b[0m\u001b[0m\n\u001b[0;32m---> 35\u001b[0;31m             \u001b[0muser_msg\u001b[0m \u001b[0;34m=\u001b[0m \u001b[0mself\u001b[0m\u001b[0;34m.\u001b[0m\u001b[0mgetUserInput\u001b[0m\u001b[0;34m(\u001b[0m\u001b[0;34m)\u001b[0m\u001b[0;34m\u001b[0m\u001b[0;34m\u001b[0m\u001b[0m\n\u001b[0m\u001b[1;32m     36\u001b[0m         \u001b[0;32mif\u001b[0m\u001b[0;34m(\u001b[0m\u001b[0muser_msg\u001b[0m \u001b[0;34m==\u001b[0m \u001b[0;34m\"exit\"\u001b[0m\u001b[0;34m)\u001b[0m\u001b[0;34m:\u001b[0m\u001b[0;34m\u001b[0m\u001b[0;34m\u001b[0m\u001b[0m\n\u001b[1;32m     37\u001b[0m             \u001b[0mprint\u001b[0m\u001b[0;34m(\u001b[0m\u001b[0;34m\"Thank you for using our chat application. Please give any feedback to help us improve.\"\u001b[0m\u001b[0;34m)\u001b[0m\u001b[0;34m\u001b[0m\u001b[0;34m\u001b[0m\u001b[0m\n",
            "\u001b[0;32m<ipython-input-3-ada676a44459>\u001b[0m in \u001b[0;36mgetUserInput\u001b[0;34m(self)\u001b[0m\n\u001b[1;32m     17\u001b[0m     \u001b[0;32mdef\u001b[0m \u001b[0mgetUserInput\u001b[0m\u001b[0;34m(\u001b[0m\u001b[0mself\u001b[0m\u001b[0;34m)\u001b[0m\u001b[0;34m:\u001b[0m\u001b[0;34m\u001b[0m\u001b[0;34m\u001b[0m\u001b[0m\n\u001b[1;32m     18\u001b[0m         \u001b[0;31m# return input(Markdown(f\"<font color='blue'><i>user: </i></font>\"))\u001b[0m\u001b[0;34m\u001b[0m\u001b[0;34m\u001b[0m\u001b[0m\n\u001b[0;32m---> 19\u001b[0;31m         \u001b[0;32mreturn\u001b[0m \u001b[0minput\u001b[0m\u001b[0;34m(\u001b[0m\u001b[0;34m\"User: \"\u001b[0m\u001b[0;34m)\u001b[0m\u001b[0;34m\u001b[0m\u001b[0;34m\u001b[0m\u001b[0m\n\u001b[0m\u001b[1;32m     20\u001b[0m \u001b[0;34m\u001b[0m\u001b[0m\n\u001b[1;32m     21\u001b[0m     \u001b[0;32mdef\u001b[0m \u001b[0mgenerateResponse\u001b[0m\u001b[0;34m(\u001b[0m\u001b[0mself\u001b[0m\u001b[0;34m,\u001b[0m\u001b[0muser_msg\u001b[0m\u001b[0;34m)\u001b[0m\u001b[0;34m:\u001b[0m\u001b[0;34m\u001b[0m\u001b[0;34m\u001b[0m\u001b[0m\n",
            "\u001b[0;32m/usr/local/lib/python3.10/dist-packages/ipykernel/kernelbase.py\u001b[0m in \u001b[0;36mraw_input\u001b[0;34m(self, prompt)\u001b[0m\n\u001b[1;32m    849\u001b[0m                 \u001b[0;34m\"raw_input was called, but this frontend does not support input requests.\"\u001b[0m\u001b[0;34m\u001b[0m\u001b[0;34m\u001b[0m\u001b[0m\n\u001b[1;32m    850\u001b[0m             )\n\u001b[0;32m--> 851\u001b[0;31m         return self._input_request(str(prompt),\n\u001b[0m\u001b[1;32m    852\u001b[0m             \u001b[0mself\u001b[0m\u001b[0;34m.\u001b[0m\u001b[0m_parent_ident\u001b[0m\u001b[0;34m,\u001b[0m\u001b[0;34m\u001b[0m\u001b[0;34m\u001b[0m\u001b[0m\n\u001b[1;32m    853\u001b[0m             \u001b[0mself\u001b[0m\u001b[0;34m.\u001b[0m\u001b[0m_parent_header\u001b[0m\u001b[0;34m,\u001b[0m\u001b[0;34m\u001b[0m\u001b[0;34m\u001b[0m\u001b[0m\n",
            "\u001b[0;32m/usr/local/lib/python3.10/dist-packages/ipykernel/kernelbase.py\u001b[0m in \u001b[0;36m_input_request\u001b[0;34m(self, prompt, ident, parent, password)\u001b[0m\n\u001b[1;32m    893\u001b[0m             \u001b[0;32mexcept\u001b[0m \u001b[0mKeyboardInterrupt\u001b[0m\u001b[0;34m:\u001b[0m\u001b[0;34m\u001b[0m\u001b[0;34m\u001b[0m\u001b[0m\n\u001b[1;32m    894\u001b[0m                 \u001b[0;31m# re-raise KeyboardInterrupt, to truncate traceback\u001b[0m\u001b[0;34m\u001b[0m\u001b[0;34m\u001b[0m\u001b[0m\n\u001b[0;32m--> 895\u001b[0;31m                 \u001b[0;32mraise\u001b[0m \u001b[0mKeyboardInterrupt\u001b[0m\u001b[0;34m(\u001b[0m\u001b[0;34m\"Interrupted by user\"\u001b[0m\u001b[0;34m)\u001b[0m \u001b[0;32mfrom\u001b[0m \u001b[0;32mNone\u001b[0m\u001b[0;34m\u001b[0m\u001b[0;34m\u001b[0m\u001b[0m\n\u001b[0m\u001b[1;32m    896\u001b[0m             \u001b[0;32mexcept\u001b[0m \u001b[0mException\u001b[0m \u001b[0;32mas\u001b[0m \u001b[0me\u001b[0m\u001b[0;34m:\u001b[0m\u001b[0;34m\u001b[0m\u001b[0;34m\u001b[0m\u001b[0m\n\u001b[1;32m    897\u001b[0m                 \u001b[0mself\u001b[0m\u001b[0;34m.\u001b[0m\u001b[0mlog\u001b[0m\u001b[0;34m.\u001b[0m\u001b[0mwarning\u001b[0m\u001b[0;34m(\u001b[0m\u001b[0;34m\"Invalid Message:\"\u001b[0m\u001b[0;34m,\u001b[0m \u001b[0mexc_info\u001b[0m\u001b[0;34m=\u001b[0m\u001b[0;32mTrue\u001b[0m\u001b[0;34m)\u001b[0m\u001b[0;34m\u001b[0m\u001b[0;34m\u001b[0m\u001b[0m\n",
            "\u001b[0;31mKeyboardInterrupt\u001b[0m: Interrupted by user"
          ]
        }
      ]
    },
    {
      "cell_type": "code",
      "source": [
        "# for str in bot1.logs:\n",
        "    # print(str.choices[0].message.content)\n",
        "print(bot1.msgs)"
      ],
      "metadata": {
        "colab": {
          "base_uri": "https://localhost:8080/"
        },
        "id": "qgGFXa32rVH4",
        "outputId": "81a94f33-3ced-4397-cc85-2519bead4726"
      },
      "execution_count": null,
      "outputs": [
        {
          "output_type": "stream",
          "name": "stdout",
          "text": [
            "[{'role': 'user', 'content': 'My name is ashok'}, {'role': 'assistant', 'content': 'Nice to meet you, Ashok!'}, {'role': 'user', 'content': 'What is my nmae'}, {'role': 'assistant', 'content': 'Your name is Ashok!'}]\n"
          ]
        }
      ]
    },
    {
      "cell_type": "code",
      "source": [
        "bussinessTaxcontext= \"The form of business you operate determines what taxes you must pay and how you pay them. The following are the five general types of business taxes. \\\n",
        "Income Tax \\\n",
        "Estimated Taxes \\\n",
        "Self-Employment Tax \\\n",
        "Employment Taxes \\\n",
        "Excise Tax \\\n",
        "Income tax \\\n",
        "All businesses except partnerships must file an annual income tax return. Partnerships file an information return. The form you use depends on how your business is organized. Refer to Business Structures to find out which returns you must file based on the business entity established. \\\n",
        "\\\n",
        "The federal income tax is a pay-as-you-go tax. You must pay the tax as you earn or receive income during the year. An employee usually has income tax withheld from his or her pay. If you do not pay your tax through withholding, or do not pay enough tax that way, you might have to pay estimated tax. If you are not required to make estimated tax payments, you may pay any tax due when you file your return. For additional information refer to Publication 583.\\\n",
        "\\\n",
        "Estimated tax\\\n",
        "Generally, you must pay taxes on income, including self-employment tax (discussed next), by making regular payments of estimated tax during the year. For additional information, refer to Estimated Taxes.\\\n",
        "\\\n",
        "Self-employment tax \\\n",
        "Self-employment tax (SE tax) is a social security and Medicare tax primarily for individuals who work for themselves. Your payments of SE tax contribute to your coverage under the social security system. Social security coverage provides you with retirement benefits, disability benefits, survivor benefits, and hospital insurance (Medicare) benefits.\\\n",
        "\\\n",
        "Generally, you must pay SE tax and file Schedule SE (Form 1040 or 1040-SR) if either of the following applies.\\\n",
        "\\\n",
        "If your net earnings from self-employment were $400 or more.\\\n",
        "If you work for a church or a qualified church-controlled organization (other than as a minister or member of a religious order) that elected an exemption from social security and Medicare taxes, you are subject to SE tax if you receive $108.28 or more in wages from the church or organization.\\\n",
        "Note: There are special rules and exceptions for aliens, fishing crew members, notary public, state or local government employees, foreign government or international organization employees, etc. For additional information, refer to Self-Employment Tax. \\\n",
        "\\\n",
        "Employment taxes\\\n",
        "When you have employees, you as the employer have certain employment tax responsibilities that you must pay and forms you must file. Employment taxes include the following:\\\n",
        "\\\n",
        "Social security and Medicare taxes \\\n",
        "Federal income tax withholding \\\n",
        "Federal unemployment (FUTA) tax \\\n",
        "For additional information, refer to Employment Taxes for Small Businesses.\\\n",
        "\\\n",
        "Excise tax\\\n",
        "This section describes the excise taxes you may have to pay and the forms you have to file if you do any of the following.\\\n",
        "\\\n",
        "Manufacture or sell certain products.\\\n",
        "Operate certain kinds of businesses.\\\n",
        "Use various kinds of equipment, facilities, or products.\\\n",
        "Receive payment for certain services.\\\n",
        "Form 720 - The federal excise taxes reported on Form 720, consist of several broad categories of taxes, including the following.\\\n",
        "\\\n",
        "Environmental taxes.\\\n",
        "Communications and air transportation taxes.\\\n",
        "Fuel taxes.\\\n",
        "Tax on the first retail sale of heavy trucks, trailers, and tractors.\\\n",
        "Manufacturers taxes on the sale or use of a variety of different articles\\\n",
        "Form 2290 - There is a federal excise tax on certain trucks, truck tractors, and buses used on public highways. The tax applies to vehicles having a taxable gross weight of 55,000 pounds or more. Report the tax on Form 2290. For additional information, see the instructions for Form 2290 .\\\n",
        "\\\n",
        "Form 730 - If you are in the business of accepting wagers or conducting a wagering pool or lottery, you may be liable for the federal excise tax on wagering. Use Form 730, to figure the tax on the wagers you receive.\\\n",
        "\\\n",
        "Form 11-C - Use Form 11-C, Occupational Tax and Registration Return for Wagering, to register for any wagering activity and to pay the federal occupational tax on wagering.\\\n",
        "\\\n",
        "Excise tax has several general excise tax programs. One of the major components of the excise program is motor fuel. For additional information, refer to Excise Taxes.\"\n",
        "Role = \"You are tax expert. Answer the question using only information below: \\n\"\n",
        "user_msg = \"What are the typs of business taxes?\"\n",
        "prompttemplate = '{Role} \\n Information: \"{bussinessTaxcontext}\" \\n Question: \"{user_msg}\" \\n Answer:'\n",
        "prompt = prompttemplate.format(Role=Role,bussinessTaxcontext=bussinessTaxcontext,user_msg=user_msg)"
      ],
      "metadata": {
        "id": "cdK5sDZ2ss8Q"
      },
      "execution_count": null,
      "outputs": []
    },
    {
      "cell_type": "code",
      "source": [
        "print(prompt)"
      ],
      "metadata": {
        "colab": {
          "base_uri": "https://localhost:8080/"
        },
        "id": "HkOXrYv5wpOd",
        "outputId": "dc8d5991-c96e-486b-ba36-5cfcd41199b1"
      },
      "execution_count": null,
      "outputs": [
        {
          "output_type": "stream",
          "name": "stdout",
          "text": [
            "You are tax expert. Answer the question using only information below: \n",
            " \n",
            " Information: \"The form of business you operate determines what taxes you must pay and how you pay them. The following are the five general types of business taxes. Income Tax Estimated Taxes Self-Employment Tax Employment Taxes Excise Tax Income tax All businesses except partnerships must file an annual income tax return. Partnerships file an information return. The form you use depends on how your business is organized. Refer to Business Structures to find out which returns you must file based on the business entity established. The federal income tax is a pay-as-you-go tax. You must pay the tax as you earn or receive income during the year. An employee usually has income tax withheld from his or her pay. If you do not pay your tax through withholding, or do not pay enough tax that way, you might have to pay estimated tax. If you are not required to make estimated tax payments, you may pay any tax due when you file your return. For additional information refer to Publication 583.Estimated taxGenerally, you must pay taxes on income, including self-employment tax (discussed next), by making regular payments of estimated tax during the year. For additional information, refer to Estimated Taxes.Self-employment tax Self-employment tax (SE tax) is a social security and Medicare tax primarily for individuals who work for themselves. Your payments of SE tax contribute to your coverage under the social security system. Social security coverage provides you with retirement benefits, disability benefits, survivor benefits, and hospital insurance (Medicare) benefits.Generally, you must pay SE tax and file Schedule SE (Form 1040 or 1040-SR) if either of the following applies.If your net earnings from self-employment were $400 or more.If you work for a church or a qualified church-controlled organization (other than as a minister or member of a religious order) that elected an exemption from social security and Medicare taxes, you are subject to SE tax if you receive $108.28 or more in wages from the church or organization.Note: There are special rules and exceptions for aliens, fishing crew members, notary public, state or local government employees, foreign government or international organization employees, etc. For additional information, refer to Self-Employment Tax. Employment taxesWhen you have employees, you as the employer have certain employment tax responsibilities that you must pay and forms you must file. Employment taxes include the following:Social security and Medicare taxes Federal income tax withholding Federal unemployment (FUTA) tax For additional information, refer to Employment Taxes for Small Businesses.Excise taxThis section describes the excise taxes you may have to pay and the forms you have to file if you do any of the following.Manufacture or sell certain products.Operate certain kinds of businesses.Use various kinds of equipment, facilities, or products.Receive payment for certain services.Form 720 - The federal excise taxes reported on Form 720, consist of several broad categories of taxes, including the following.Environmental taxes.Communications and air transportation taxes.Fuel taxes.Tax on the first retail sale of heavy trucks, trailers, and tractors.Manufacturers taxes on the sale or use of a variety of different articlesForm 2290 - There is a federal excise tax on certain trucks, truck tractors, and buses used on public highways. The tax applies to vehicles having a taxable gross weight of 55,000 pounds or more. Report the tax on Form 2290. For additional information, see the instructions for Form 2290 .Form 730 - If you are in the business of accepting wagers or conducting a wagering pool or lottery, you may be liable for the federal excise tax on wagering. Use Form 730, to figure the tax on the wagers you receive.Form 11-C - Use Form 11-C, Occupational Tax and Registration Return for Wagering, to register for any wagering activity and to pay the federal occupational tax on wagering.Excise tax has several general excise tax programs. One of the major components of the excise program is motor fuel. For additional information, refer to Excise Taxes.\" \n",
            " Question: \"What are the typs of business taxes?\" \n",
            " Answer:\n"
          ]
        }
      ]
    },
    {
      "cell_type": "code",
      "source": [],
      "metadata": {
        "id": "KmJ6TEocwr_O"
      },
      "execution_count": null,
      "outputs": []
    },
    {
      "cell_type": "code",
      "source": [],
      "metadata": {
        "id": "CJHPnQwKxe_e"
      },
      "execution_count": null,
      "outputs": []
    }
  ]
}